{
 "cells": [
  {
   "cell_type": "code",
   "execution_count": 24,
   "id": "caf76dac-dfaf-4355-9a59-91f3a023a2a2",
   "metadata": {},
   "outputs": [
    {
     "name": "stdout",
     "output_type": "stream",
     "text": [
      "Converted damask_rose_001.jfif to damask_rose_001.jpg\n",
      "Deleted original file: damask_rose_001.jfif\n",
      "Converted damask_rose_002.jfif to damask_rose_002.jpg\n",
      "Deleted original file: damask_rose_002.jfif\n",
      "Converted damask_rose_005.jfif to damask_rose_005.jpg\n",
      "Deleted original file: damask_rose_005.jfif\n"
     ]
    }
   ],
   "source": [
    "import os\n",
    "from PIL import Image\n",
    "\n",
    "# Function to convert images to .jpg and keep the same file name\n",
    "def convert_images_to_jpg(input_dir):\n",
    "    # Loop through all folders and files in the input directory\n",
    "    for root, dirs, files in os.walk(input_dir):\n",
    "        for filename in files:\n",
    "            if filename.endswith((\".png\", \".jpeg\", \".bmp\", \".gif\", \".tiff\", \".jfif\")):  # Add other formats if needed\n",
    "                # Open the image\n",
    "                img_path = os.path.join(root, filename)\n",
    "                img = Image.open(img_path)\n",
    "\n",
    "                # Convert the image to RGB mode (necessary for JPEG format)\n",
    "                rgb_img = img.convert(\"RGB\")\n",
    "\n",
    "                # Remove the original extension and append .jpg\n",
    "                jpg_filename = os.path.splitext(filename)[0] + \".jpg\"\n",
    "\n",
    "                # Save the image as .jpg in the same directory\n",
    "                rgb_img.save(os.path.join(root, jpg_filename), \"JPEG\")\n",
    "\n",
    "                print(f\"Converted {filename} to {jpg_filename}\")\n",
    "\n",
    "                # Delete the original file after conversion\n",
    "                os.remove(img_path)\n",
    "                print(f\"Deleted original file: {filename}\")\n",
    "\n",
    "# Set your input directory\n",
    "input_directory = \"../data/train\"  # Adjust this path as necessary\n",
    "\n",
    "# Run the conversion\n",
    "convert_images_to_jpg(input_directory)\n"
   ]
  },
  {
   "cell_type": "code",
   "execution_count": null,
   "id": "5b9611e3-7cdf-40a6-9b90-e9f8ec69e967",
   "metadata": {},
   "outputs": [],
   "source": []
  }
 ],
 "metadata": {
  "kernelspec": {
   "display_name": "Python 3 (ipykernel)",
   "language": "python",
   "name": "python3"
  },
  "language_info": {
   "codemirror_mode": {
    "name": "ipython",
    "version": 3
   },
   "file_extension": ".py",
   "mimetype": "text/x-python",
   "name": "python",
   "nbconvert_exporter": "python",
   "pygments_lexer": "ipython3",
   "version": "3.11.7"
  }
 },
 "nbformat": 4,
 "nbformat_minor": 5
}
