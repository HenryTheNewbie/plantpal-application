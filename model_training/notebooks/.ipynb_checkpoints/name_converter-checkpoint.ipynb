{
 "cells": [
  {
   "cell_type": "code",
   "execution_count": null,
   "id": "024f83ab-cc5c-4cca-b7e9-66bf8a8c7d18",
   "metadata": {},
   "outputs": [],
   "source": [
    "import os\n",
    "from PIL import Image\n",
    "\n",
    "# Function to rename and convert images following the folderName_001.jpg format\n",
    "def rename_images_in_folders(base_dir):\n",
    "    # Loop through all folders inside the base directory\n",
    "    for folder_name in os.listdir(base_dir):\n",
    "        folder_path = os.path.join(base_dir, folder_name)\n",
    "        \n",
    "        if os.path.isdir(folder_path):  # Ensure it's a directory\n",
    "            print(f\"Processing folder: {folder_name}\")\n",
    "            \n",
    "            # Get all the images inside the folder\n",
    "            image_files = [f for f in os.listdir(folder_path) if f.endswith(('.png', '.jpeg', '.bmp', '.gif', '.tiff', '.jpg'))]\n",
    "            image_files.sort()  # Sort the files to maintain order\n",
    "\n",
    "            for idx, filename in enumerate(image_files, start=1):\n",
    "                old_image_path = os.path.join(folder_path, filename)\n",
    "                \n",
    "                # Generate the new name based on folder name and index\n",
    "                new_image_name = f\"{folder_name}_{str(idx).zfill(3)}.jpg\"\n",
    "                new_image_path = os.path.join(folder_path, new_image_name)\n",
    "\n",
    "                # Open the image and convert it to RGB format if necessary, then save as JPG\n",
    "                with Image.open(old_image_path) as img:\n",
    "                    rgb_img = img.convert(\"RGB\")  # Convert to RGB to ensure it's compatible with JPG format\n",
    "                    rgb_img.save(new_image_path, \"JPEG\")\n",
    "\n",
    "                print(f\"Renamed {filename} to {new_image_name} (original not deleted)\")\n",
    "\n",
    "# Set the base directory (the parent directory containing all the subfolders)\n",
    "base_directory = \"../data/train\"  # Change this to your actual base directory path\n",
    "\n",
    "# Run the renaming and conversion function\n",
    "rename_images_in_folders(base_directory)"
   ]
  }
 ],
 "metadata": {
  "kernelspec": {
   "display_name": "Python 3 (ipykernel)",
   "language": "python",
   "name": "python3"
  },
  "language_info": {
   "codemirror_mode": {
    "name": "ipython",
    "version": 3
   },
   "file_extension": ".py",
   "mimetype": "text/x-python",
   "name": "python",
   "nbconvert_exporter": "python",
   "pygments_lexer": "ipython3",
   "version": "3.11.7"
  }
 },
 "nbformat": 4,
 "nbformat_minor": 5
}
