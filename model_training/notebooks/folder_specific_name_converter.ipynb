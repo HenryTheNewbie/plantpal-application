{
 "cells": [
  {
   "cell_type": "code",
   "execution_count": 20,
   "id": "f3d58f43-455c-41c6-ad62-f8e4908cdb6e",
   "metadata": {},
   "outputs": [
    {
     "name": "stdout",
     "output_type": "stream",
     "text": [
      "Processing folder: ../data/train/hibiscus_flower\n",
      "Renamed hibiscus_flower_001.jpg to hibiscus_flower_001.jpg (original not deleted)\n",
      "Renamed hibiscus_flower_002.jpg to hibiscus_flower_002.jpg (original not deleted)\n",
      "Renamed hibiscus_flower_003.jpg to hibiscus_flower_003.jpg (original not deleted)\n",
      "Renamed hibiscus_flower_004.jpg to hibiscus_flower_004.jpg (original not deleted)\n",
      "Renamed hibiscus_flower_005.jpg to hibiscus_flower_005.jpg (original not deleted)\n",
      "Renamed hibiscus_flower_006.jpg to hibiscus_flower_006.jpg (original not deleted)\n",
      "Renamed hibiscus_flower_007.jpg to hibiscus_flower_007.jpg (original not deleted)\n",
      "Renamed hibiscus_flower_008.jpg to hibiscus_flower_008.jpg (original not deleted)\n",
      "Renamed hibiscus_flower_009.jpg to hibiscus_flower_009.jpg (original not deleted)\n",
      "Renamed hibiscus_flower_010.jpg to hibiscus_flower_010.jpg (original not deleted)\n"
     ]
    }
   ],
   "source": [
    "import os\n",
    "from PIL import Image\n",
    "\n",
    "# Function to rename and convert images in a specified folder\n",
    "def rename_images_in_folder(target_folder):\n",
    "    if not os.path.exists(target_folder):\n",
    "        print(f\"Input directory does not exist: {target_folder}\")\n",
    "        return\n",
    "\n",
    "    print(f\"Processing folder: {target_folder}\")\n",
    "\n",
    "    # Get all the images inside the specified folder\n",
    "    image_files = [f for f in os.listdir(target_folder) if f.endswith(('.png', '.jpeg', '.bmp', '.gif', '.tiff', '.jpg'))]\n",
    "    image_files.sort()  # Sort the files to maintain order\n",
    "\n",
    "    # Extract the folder name from the path for naming\n",
    "    folder_name = os.path.basename(target_folder)\n",
    "\n",
    "    for idx, filename in enumerate(image_files, start=1):\n",
    "        old_image_path = os.path.join(target_folder, filename)\n",
    "\n",
    "        # Generate the new name based on folder name and index\n",
    "        new_image_name = f\"{folder_name}_{str(idx).zfill(3)}.jpg\"\n",
    "        new_image_path = os.path.join(target_folder, new_image_name)\n",
    "\n",
    "        # Open the image and convert it to RGB format if necessary, then save as JPG\n",
    "        with Image.open(old_image_path) as img:\n",
    "            rgb_img = img.convert(\"RGB\")  # Convert to RGB to ensure it's compatible with JPG format\n",
    "            rgb_img.save(new_image_path, \"JPEG\")\n",
    "\n",
    "        print(f\"Renamed {filename} to {new_image_name} (original not deleted)\")\n",
    "\n",
    "# Set the target folder (specify the path to the folder you want to process)\n",
    "target_folder_path = \"../data/train/hibiscus_flower\"  # Change this to your actual target folder path\n",
    "\n",
    "# Run the renaming and conversion function\n",
    "rename_images_in_folder(target_folder_path)"
   ]
  },
  {
   "cell_type": "code",
   "execution_count": null,
   "id": "db625060-ba2e-4300-b88d-93620b6bd206",
   "metadata": {},
   "outputs": [],
   "source": []
  }
 ],
 "metadata": {
  "kernelspec": {
   "display_name": "Python 3 (ipykernel)",
   "language": "python",
   "name": "python3"
  },
  "language_info": {
   "codemirror_mode": {
    "name": "ipython",
    "version": 3
   },
   "file_extension": ".py",
   "mimetype": "text/x-python",
   "name": "python",
   "nbconvert_exporter": "python",
   "pygments_lexer": "ipython3",
   "version": "3.11.7"
  }
 },
 "nbformat": 4,
 "nbformat_minor": 5
}
